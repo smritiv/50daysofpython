{
 "cells": [
  {
   "cell_type": "code",
   "execution_count": 1,
   "metadata": {},
   "outputs": [],
   "source": [
    "#Define 2 number matrices; Multiply, add the matrices"
   ]
  },
  {
   "cell_type": "code",
   "execution_count": 2,
   "metadata": {},
   "outputs": [],
   "source": [
    "import numpy as np"
   ]
  },
  {
   "cell_type": "code",
   "execution_count": 3,
   "metadata": {},
   "outputs": [
    {
     "name": "stdout",
     "output_type": "stream",
     "text": [
      "[[1 2 3]\n",
      " [4 5 6]\n",
      " [7 8 9]]\n"
     ]
    }
   ],
   "source": [
    "l = [1, 2, 3]\n",
    "li = [4, 5, 6]\n",
    "lis = [7, 8, 9]\n",
    "\n",
    "matrix1 = np.matrix([l, li, lis])\n",
    "print(matrix1)"
   ]
  },
  {
   "cell_type": "code",
   "execution_count": 4,
   "metadata": {},
   "outputs": [
    {
     "name": "stdout",
     "output_type": "stream",
     "text": [
      "[[9 8 7]\n",
      " [6 5 4]\n",
      " [3 2 1]]\n"
     ]
    }
   ],
   "source": [
    "t = [9, 8, 7]\n",
    "ts = [6, 5, 4]\n",
    "tsi = [3, 2, 1]\n",
    "\n",
    "matrix2 = np.matrix([t, ts, tsi])\n",
    "print(matrix2)"
   ]
  },
  {
   "cell_type": "code",
   "execution_count": 5,
   "metadata": {},
   "outputs": [
    {
     "name": "stdout",
     "output_type": "stream",
     "text": [
      "[[10 10 10]]\n",
      "[[10 10 10]]\n",
      "[[10 10 10]]\n"
     ]
    }
   ],
   "source": [
    "if matrix1.shape == matrix2.shape:\n",
    "    for i in range(len(matrix1)):\n",
    "        print(matrix1[i] + matrix2[i])"
   ]
  },
  {
   "cell_type": "code",
   "execution_count": 6,
   "metadata": {},
   "outputs": [
    {
     "name": "stdout",
     "output_type": "stream",
     "text": [
      "9\n",
      "16\n",
      "21\n",
      "24\n",
      "25\n",
      "24\n",
      "21\n",
      "16\n",
      "9\n"
     ]
    }
   ],
   "source": [
    "if matrix1.shape == matrix2.shape:\n",
    "    for i in range(len(matrix1)):\n",
    "        for j in range(len(matrix2)):\n",
    "            print(matrix1[i,j] * matrix2[i,j])"
   ]
  },
  {
   "cell_type": "code",
   "execution_count": 11,
   "metadata": {},
   "outputs": [
    {
     "name": "stdout",
     "output_type": "stream",
     "text": [
      "4\n"
     ]
    }
   ],
   "source": [
    "mat=[[1,2,3],\n",
    "   [3,4,5]]\n",
    "    \n",
    "print(mat[1][1])"
   ]
  },
  {
   "cell_type": "code",
   "execution_count": 12,
   "metadata": {},
   "outputs": [
    {
     "name": "stdout",
     "output_type": "stream",
     "text": [
      "[[ 30  24  18]\n",
      " [ 84  69  54]\n",
      " [138 114  90]]\n"
     ]
    }
   ],
   "source": [
    "mm=np.matmul(matrix1,matrix2)\n",
    "print(mm)"
   ]
  },
  {
   "cell_type": "code",
   "execution_count": 7,
   "metadata": {},
   "outputs": [],
   "source": [
    "#Define 2 string matrices, concatenate individual values"
   ]
  },
  {
   "cell_type": "code",
   "execution_count": 8,
   "metadata": {},
   "outputs": [
    {
     "name": "stdout",
     "output_type": "stream",
     "text": [
      "[['dra' 'pega' 'cer']\n",
      " ['aira' 'goor' 'car']\n",
      " ['fen' 'chi' 'skolo']]\n"
     ]
    }
   ],
   "source": [
    "m = ['dra', 'pega', 'cer']\n",
    "my = ['aira', 'goor', 'car']\n",
    "myt = ['fen', 'chi', 'skolo']\n",
    "\n",
    "matrix10 = np.matrix([m, my, myt])\n",
    "print(matrix10)"
   ]
  },
  {
   "cell_type": "code",
   "execution_count": 9,
   "metadata": {},
   "outputs": [
    {
     "name": "stdout",
     "output_type": "stream",
     "text": [
      "[['nix' 'vata' 'corn']\n",
      " ['lin' 'baena' 'pendra']\n",
      " ['guari' 'cinus' 'chu']]\n"
     ]
    }
   ],
   "source": [
    "ma = ['nix', 'vata', 'corn']\n",
    "mat = ['lin', 'baena', 'pendra']\n",
    "matc = ['guari', 'cinus', 'chu']\n",
    "\n",
    "matrix11 = np.matrix([ma, mat, matc])\n",
    "print(matrix11)"
   ]
  },
  {
   "cell_type": "code",
   "execution_count": 10,
   "metadata": {},
   "outputs": [
    {
     "name": "stdout",
     "output_type": "stream",
     "text": [
      "dranix\n",
      "pegavata\n",
      "cercorn\n",
      "airalin\n",
      "goorbaena\n",
      "carpendra\n",
      "fenguari\n",
      "chicinus\n",
      "skolochu\n"
     ]
    }
   ],
   "source": [
    "if matrix10.shape == matrix11.shape:\n",
    "    for i in range(len(matrix10)):\n",
    "        for j in range(len(matrix11)):\n",
    "            print(str(matrix10[i,j]) + str(matrix11[i, j]))"
   ]
  },
  {
   "cell_type": "code",
   "execution_count": null,
   "metadata": {},
   "outputs": [],
   "source": []
  }
 ],
 "metadata": {
  "kernelspec": {
   "display_name": "Python 3",
   "language": "python",
   "name": "python3"
  },
  "language_info": {
   "codemirror_mode": {
    "name": "ipython",
    "version": 3
   },
   "file_extension": ".py",
   "mimetype": "text/x-python",
   "name": "python",
   "nbconvert_exporter": "python",
   "pygments_lexer": "ipython3",
   "version": "3.7.6"
  }
 },
 "nbformat": 4,
 "nbformat_minor": 4
}
