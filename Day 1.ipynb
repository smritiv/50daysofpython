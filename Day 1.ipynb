{
 "cells": [
  {
   "cell_type": "code",
   "execution_count": 2,
   "metadata": {},
   "outputs": [],
   "source": [
    "#Get 2 numbers from user and find sum, max, absolute difference, factorial of each number."
   ]
  },
  {
   "cell_type": "code",
   "execution_count": 3,
   "metadata": {},
   "outputs": [
    {
     "name": "stdout",
     "output_type": "stream",
     "text": [
      "Type two numbers.\n",
      "3\n",
      "4\n",
      "The sum:\n",
      "7\n"
     ]
    }
   ],
   "source": [
    "print(\"Type two numbers.\")\n",
    "num1 = int(input())\n",
    "num2 = int(input())\n",
    "\n",
    "print(\"The sum:\")\n",
    "print(num1 + num2)"
   ]
  },
  {
   "cell_type": "code",
   "execution_count": 5,
   "metadata": {},
   "outputs": [
    {
     "name": "stdout",
     "output_type": "stream",
     "text": [
      "4\n"
     ]
    }
   ],
   "source": [
    "print(\"The max:\")\n",
    "print(max(num1, num2))"
   ]
  },
  {
   "cell_type": "code",
   "execution_count": 6,
   "metadata": {},
   "outputs": [
    {
     "name": "stdout",
     "output_type": "stream",
     "text": [
      "The absolute difference:\n",
      "3\n"
     ]
    }
   ],
   "source": [
    "print(\"The absolute difference:\")\n",
    "print(abs(num1-num2))"
   ]
  },
  {
   "cell_type": "code",
   "execution_count": 4,
   "metadata": {},
   "outputs": [
    {
     "name": "stdout",
     "output_type": "stream",
     "text": [
      "6\n",
      "24\n"
     ]
    }
   ],
   "source": [
    "def factorial(n):\n",
    "    if n < 0 or n == 0:\n",
    "        return 0\n",
    "    elif n == 1:\n",
    "        return 1\n",
    "    else:\n",
    "        con = 1\n",
    "        while(n > 1):\n",
    "            con *= n\n",
    "            n -= 1\n",
    "        print(con)\n",
    "        \n",
    "factorial(num1)\n",
    "factorial(num2)"
   ]
  },
  {
   "cell_type": "code",
   "execution_count": 22,
   "metadata": {},
   "outputs": [],
   "source": [
    "#find prime numbers"
   ]
  },
  {
   "cell_type": "code",
   "execution_count": 21,
   "metadata": {},
   "outputs": [
    {
     "name": "stdout",
     "output_type": "stream",
     "text": [
      "[4, 6, 8, 9, 10, 12]\n",
      "[1, 2, 3, 5, 7, 11]\n"
     ]
    }
   ],
   "source": [
    "def primenum(n1,n2):\n",
    "    numbers = list(range(n1, n2)) #list of numbers between n1 and n2\n",
    "    composite = []\n",
    "    prime = []\n",
    "    if n1 < 0 or n2 < 0:\n",
    "        return 0\n",
    "    else:\n",
    "        while (n1 < n2):\n",
    "            for i in range(2, n1):\n",
    "                if (n1 % i) == 0:\n",
    "                    if n1 not in composite:\n",
    "                        composite.append(n1)\n",
    "                    \n",
    "            n1 += 1\n",
    "            \n",
    "    print(composite)\n",
    "    \n",
    "    for i in numbers:\n",
    "        if i not in composite:\n",
    "            prime.append(i)\n",
    "            \n",
    "    print(prime)\n",
    "                \n",
    "primenum(1,13)"
   ]
  },
  {
   "cell_type": "code",
   "execution_count": 23,
   "metadata": {},
   "outputs": [],
   "source": [
    "#find simple and compound interest from user inputs"
   ]
  },
  {
   "cell_type": "code",
   "execution_count": 27,
   "metadata": {},
   "outputs": [
    {
     "name": "stdout",
     "output_type": "stream",
     "text": [
      "Principle amount?\n",
      "5\n",
      "Time?\n",
      "6\n",
      "Rate?\n",
      "1\n",
      "Simple Interest: 0.3\n"
     ]
    }
   ],
   "source": [
    "print(\"Principle amount?\")\n",
    "p = int(input())\n",
    "print(\"Time?\")\n",
    "t = int(input())\n",
    "print(\"Rate?\")\n",
    "r = int(input())\n",
    "\n",
    "simple = (p*r*t) / 100\n",
    "print(\"Simple Interest:\", simple)"
   ]
  },
  {
   "cell_type": "code",
   "execution_count": 35,
   "metadata": {},
   "outputs": [
    {
     "name": "stdout",
     "output_type": "stream",
     "text": [
      "Principle amount?\n",
      "10\n",
      "Time?\n",
      "1\n",
      "Rate?\n",
      "2\n",
      "0.1999999999999993\n"
     ]
    }
   ],
   "source": [
    "print(\"Principle amount?\")\n",
    "p = float(input())\n",
    "print(\"Time?\")\n",
    "t = float(input())\n",
    "print(\"Rate?\")\n",
    "r = float(input())\n",
    "\n",
    "def compound(p,t,r):\n",
    "    a = p*pow(1+(r/100),t)\n",
    "    compound = a-p\n",
    "    print(compound)\n",
    "    \n",
    "compound(p,t,r)"
   ]
  },
  {
   "cell_type": "code",
   "execution_count": null,
   "metadata": {},
   "outputs": [],
   "source": []
  }
 ],
 "metadata": {
  "kernelspec": {
   "display_name": "Python 3",
   "language": "python",
   "name": "python3"
  },
  "language_info": {
   "codemirror_mode": {
    "name": "ipython",
    "version": 3
   },
   "file_extension": ".py",
   "mimetype": "text/x-python",
   "name": "python",
   "nbconvert_exporter": "python",
   "pygments_lexer": "ipython3",
   "version": "3.7.6"
  }
 },
 "nbformat": 4,
 "nbformat_minor": 4
}
