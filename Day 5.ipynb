{
 "cells": [
  {
   "cell_type": "code",
   "execution_count": 2,
   "metadata": {},
   "outputs": [
    {
     "name": "stdout",
     "output_type": "stream",
     "text": [
      "not a palindrome\n"
     ]
    }
   ],
   "source": [
    "string = 'raceca'\n",
    "palindrome = False\n",
    "\n",
    "def findpalindrome(string):\n",
    "    length = len(string)\n",
    "    if length%2 == 1:\n",
    "        length = length -1\n",
    "        length = length/2\n",
    "        for i in range(int(length-1)):\n",
    "            if string[i] == string[-i - 1]:\n",
    "                palindrome = True\n",
    "            else:\n",
    "                palindrome = False\n",
    "                break\n",
    "    if length%2 == 0:\n",
    "        length = length/2\n",
    "        for i in range(int(length-1)):\n",
    "            if string[i] == string[-i - 1]:\n",
    "                palindrome = True\n",
    "            else:\n",
    "                palindrome = False\n",
    "    if palindrome == True:\n",
    "        print('is a palindrome')\n",
    "    else:\n",
    "        print('not a palindrome')\n",
    "\n",
    "findpalindrome(string)"
   ]
  },
  {
   "cell_type": "code",
   "execution_count": 10,
   "metadata": {},
   "outputs": [
    {
     "name": "stdout",
     "output_type": "stream",
     "text": [
      "place value please10\n",
      "f\n"
     ]
    }
   ],
   "source": [
    "string1 = 'supercalifragilisticexpialidocious'\n",
    "i = int(input('place value please'))\n",
    "print(string1[i-1])"
   ]
  },
  {
   "cell_type": "code",
   "execution_count": 15,
   "metadata": {},
   "outputs": [
    {
     "name": "stdout",
     "output_type": "stream",
     "text": [
      "short string pleasebun\n",
      "your short string is in the original string\n"
     ]
    }
   ],
   "source": [
    "string2 = 'bunny'\n",
    "string3 = input('short string please')\n",
    "\n",
    "if string3 in string2:\n",
    "    print('your short string is in the original string')\n",
    "else:\n",
    "    print('try again')"
   ]
  },
  {
   "cell_type": "code",
   "execution_count": 19,
   "metadata": {},
   "outputs": [
    {
     "name": "stdout",
     "output_type": "stream",
     "text": [
      "ibbibbbibbbibbbibbbibbbibb\n"
     ]
    }
   ],
   "source": [
    "string5 = 'abbabbbabbbabbbabbbabbbabb'\n",
    "rt = 'ib'\n",
    "ot = 'ab'\n",
    "\n",
    "\n",
    "string5 = string5.replace(ot, rt)\n",
    "print(string5)"
   ]
  },
  {
   "cell_type": "code",
   "execution_count": 17,
   "metadata": {},
   "outputs": [
    {
     "name": "stdout",
     "output_type": "stream",
     "text": [
      "string pleasehello world\n",
      "['e', 'o']\n"
     ]
    }
   ],
   "source": [
    "vowels = ['a','e','i','o','u']\n",
    "vowels_in_string = []\n",
    "\n",
    "string4 = input('string please')\n",
    "\n",
    "for item in vowels:\n",
    "    if item in string4:\n",
    "        vowels_in_string.append(item)\n",
    "\n",
    "print(vowels_in_string)"
   ]
  },
  {
   "cell_type": "code",
   "execution_count": null,
   "metadata": {},
   "outputs": [],
   "source": []
  }
 ],
 "metadata": {
  "kernelspec": {
   "display_name": "Python 3",
   "language": "python",
   "name": "python3"
  },
  "language_info": {
   "codemirror_mode": {
    "name": "ipython",
    "version": 3
   },
   "file_extension": ".py",
   "mimetype": "text/x-python",
   "name": "python",
   "nbconvert_exporter": "python",
   "pygments_lexer": "ipython3",
   "version": "3.7.6"
  }
 },
 "nbformat": 4,
 "nbformat_minor": 4
}
