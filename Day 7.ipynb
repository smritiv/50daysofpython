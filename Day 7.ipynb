{
 "cells": [
  {
   "cell_type": "code",
   "execution_count": 10,
   "metadata": {},
   "outputs": [
    {
     "name": "stdout",
     "output_type": "stream",
     "text": [
      "Name :Pepper\n",
      "Subject :Math\n",
      "Score :95\n",
      "Name :Jack\n",
      "Subject :History\n",
      "Score :87\n",
      "Name :Paul\n",
      "Subject :English\n",
      "Score :65\n",
      "Name :Pooja\n",
      "Subject :Biology\n",
      "Score :79\n",
      "Name :Ethan\n",
      "Subject :History\n",
      "Score :88\n",
      "{'name': ['Pepper', 'Jack', 'Paul', 'Pooja', 'Ethan'], 'subject': ['Math', 'History', 'English', 'Biology', 'History'], 'score': ['95', '87', '65', '79', '88']}\n"
     ]
    }
   ],
   "source": [
    "name = [] #create lists of each dictionary component first\n",
    "subj = []\n",
    "score = []\n",
    "\n",
    "for i in range(5): #inputs five values to each of the three components\n",
    "    name.append(input(\"Name :\"))\n",
    "    subj.append(input(\"Subject :\"))\n",
    "    score.append(input(\"Score :\"))\n",
    "\n",
    "studentdict={} #dictionary\n",
    "studentdict[\"name\"]=name #the key name corresponds to the list name, and so on- adding to the dictionary\n",
    "studentdict[\"subject\"]=subj\n",
    "studentdict[\"score\"]=score\n",
    "print(studentdict)"
   ]
  },
  {
   "cell_type": "code",
   "execution_count": 12,
   "metadata": {},
   "outputs": [
    {
     "name": "stdout",
     "output_type": "stream",
     "text": [
      "Pepper got the highest score of 95 in Math.\n"
     ]
    }
   ],
   "source": [
    "maxname = studentdict[\"name\"][0]\n",
    "maxsubj = studentdict[\"subject\"][0]\n",
    "maxscore = studentdict[\"score\"][0]\n",
    "\n",
    "for i in range(len(studentdict[\"name\"])):\n",
    "    if studentdict[\"score\"][i] > maxscore:\n",
    "        maxname = studentdict[\"name\"][i]\n",
    "        maxsubj = studentdict[\"subject\"][i]\n",
    "        maxscore = studentdict[\"score\"][i]\n",
    "        \n",
    "print(maxname + \" got the highest score of \" + maxscore + \" in \" + maxsubj + \".\")"
   ]
  },
  {
   "cell_type": "code",
   "execution_count": 14,
   "metadata": {},
   "outputs": [
    {
     "name": "stdout",
     "output_type": "stream",
     "text": [
      "Paul got the lowest score of 65 in English.\n"
     ]
    }
   ],
   "source": [
    "minname = studentdict[\"name\"][0]\n",
    "minsubj = studentdict[\"subject\"][0]\n",
    "minscore = studentdict[\"score\"][0]\n",
    "\n",
    "for i in range(len(studentdict[\"name\"])):\n",
    "    if studentdict[\"score\"][i] < minscore:\n",
    "        minname = studentdict[\"name\"][i]\n",
    "        minsubj = studentdict[\"subject\"][i]\n",
    "        minscore = studentdict[\"score\"][i]\n",
    "        \n",
    "print(minname + \" got the lowest score of \" + minscore + \" in \" + minsubj + \".\")"
   ]
  },
  {
   "cell_type": "code",
   "execution_count": 15,
   "metadata": {},
   "outputs": [
    {
     "name": "stdout",
     "output_type": "stream",
     "text": [
      "Name :Mai\n",
      "Voted Name :Pepper\n",
      "Name :Josie\n",
      "Voted Name :Pepper\n",
      "Name :Garrett\n",
      "Voted Name :Pepper\n",
      "Name :Anthony\n",
      "Voted Name :Paul\n",
      "Name :Cooper\n",
      "Voted Name :Paul\n",
      "{'Pepper': 3, 'Paul': 2}\n"
     ]
    }
   ],
   "source": [
    "name1 = [] \n",
    "votedname = []\n",
    "\n",
    "for i in range(5): \n",
    "    name1.append(input(\"Name :\"))\n",
    "    votedname.append(input(\"Voted Name :\"))\n",
    "\n",
    "odict={} #dictionary\n",
    "odict[\"name\"]=name1 #the key name corresponds to the list name, and so on- adding to the dictionary\n",
    "odict[\"votedname\"]=votedname\n",
    "\n",
    "votedname1 = {}\n",
    "for name in odict[\"votedname\"]:\n",
    "    if name not in votedname1:\n",
    "        votedname1[name] = 1\n",
    "    else:\n",
    "        votedname1[name] += 1\n",
    "\n",
    "print(votedname1)"
   ]
  },
  {
   "cell_type": "code",
   "execution_count": 20,
   "metadata": {},
   "outputs": [
    {
     "name": "stdout",
     "output_type": "stream",
     "text": [
      "Pepper won with 3 votes.\n"
     ]
    }
   ],
   "source": [
    "vote = 0\n",
    "for name in votedname1.keys():\n",
    "    x = votedname1.get(name)\n",
    "    if x > vote:\n",
    "        vote = x\n",
    "        winname = name\n",
    "        \n",
    "print(winname + \" won with \" + str(vote) + \" votes.\")"
   ]
  },
  {
   "cell_type": "code",
   "execution_count": null,
   "metadata": {},
   "outputs": [],
   "source": []
  }
 ],
 "metadata": {
  "kernelspec": {
   "display_name": "Python 3",
   "language": "python",
   "name": "python3"
  },
  "language_info": {
   "codemirror_mode": {
    "name": "ipython",
    "version": 3
   },
   "file_extension": ".py",
   "mimetype": "text/x-python",
   "name": "python",
   "nbconvert_exporter": "python",
   "pygments_lexer": "ipython3",
   "version": "3.7.6"
  }
 },
 "nbformat": 4,
 "nbformat_minor": 4
}
