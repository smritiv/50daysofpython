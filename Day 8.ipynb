{
 "cells": [
  {
   "cell_type": "code",
   "execution_count": 18,
   "metadata": {},
   "outputs": [],
   "source": [
    "#Create a tuple of models of cars in a dealership. Print car models and count."
   ]
  },
  {
   "cell_type": "code",
   "execution_count": 1,
   "metadata": {},
   "outputs": [],
   "source": [
    "cars = (\"Nissan\", \"Ford\", \"BMW\", \"Nissan\", \"BMW\", \"Acura\", \"Acura\", \"Acura\")"
   ]
  },
  {
   "cell_type": "code",
   "execution_count": 4,
   "metadata": {},
   "outputs": [
    {
     "name": "stdout",
     "output_type": "stream",
     "text": [
      "('Nissan', 'Ford', 'BMW', 'Nissan', 'BMW', 'Acura', 'Acura', 'Acura')\n"
     ]
    }
   ],
   "source": [
    "print(cars)"
   ]
  },
  {
   "cell_type": "code",
   "execution_count": 5,
   "metadata": {},
   "outputs": [
    {
     "name": "stdout",
     "output_type": "stream",
     "text": [
      "Nissan\n",
      "Ford\n",
      "BMW\n",
      "Nissan\n",
      "BMW\n",
      "Acura\n",
      "Acura\n",
      "Acura\n"
     ]
    }
   ],
   "source": [
    "for car in cars:\n",
    "    print(car)"
   ]
  },
  {
   "cell_type": "code",
   "execution_count": 12,
   "metadata": {},
   "outputs": [
    {
     "name": "stdout",
     "output_type": "stream",
     "text": [
      "{'Nissan': 2, 'Ford': 1, 'BMW': 2, 'Acura': 3}\n"
     ]
    }
   ],
   "source": [
    "carsnum = {}\n",
    "\n",
    "for i in range(len(cars)):\n",
    "    x = cars[i]\n",
    "    if x not in carsnum:\n",
    "        carsnum[x] = 1\n",
    "    else:\n",
    "        carsnum[x] += 1\n",
    "        \n",
    "print(carsnum)"
   ]
  },
  {
   "cell_type": "code",
   "execution_count": 19,
   "metadata": {},
   "outputs": [],
   "source": [
    "#Create 2 sets of numbers and find common & uncommon elements. Repeat this with 2 sets of words."
   ]
  },
  {
   "cell_type": "code",
   "execution_count": 13,
   "metadata": {},
   "outputs": [],
   "source": [
    "num1 = {1, 2, 4, 7, 5, 3, 10}\n",
    "num2 = {10, 9, 4, 23, 2, 14, 7}"
   ]
  },
  {
   "cell_type": "code",
   "execution_count": 15,
   "metadata": {},
   "outputs": [
    {
     "name": "stdout",
     "output_type": "stream",
     "text": [
      "1 not in num1 and num2\n",
      "2 is in num1 and num2\n",
      "3 not in num1 and num2\n",
      "4 is in num1 and num2\n",
      "5 not in num1 and num2\n",
      "7 is in num1 and num2\n",
      "10 is in num1 and num2\n",
      "9 not in num1 and num2\n",
      "14 not in num1 and num2\n",
      "23 not in num1 and num2\n"
     ]
    }
   ],
   "source": [
    "for num in num1:\n",
    "    if num in num2:\n",
    "        print(str(num) + ' is in num1 and num2')\n",
    "    else:\n",
    "        print(str(num) + ' not in num1 and num2')\n",
    "        \n",
    "for num in num2:\n",
    "    if num not in num1:\n",
    "        print(str(num) + ' not in num1 and num2')"
   ]
  },
  {
   "cell_type": "code",
   "execution_count": 16,
   "metadata": {},
   "outputs": [],
   "source": [
    "word1 = {'chair', 'computer', 'cup', 'mouse', 'bottle'}\n",
    "word2 = {'mouse', 'pouch', 'chair', 'bottle', 'pencil'}"
   ]
  },
  {
   "cell_type": "code",
   "execution_count": 17,
   "metadata": {},
   "outputs": [
    {
     "name": "stdout",
     "output_type": "stream",
     "text": [
      "chair is in word1 and word2\n",
      "computer not in word1 and word2\n",
      "cup not in word1 and word2\n",
      "mouse is in word1 and word2\n",
      "bottle is in word1 and word2\n",
      "pouch not in word1 and word2\n",
      "pencil not in word1 and word2\n"
     ]
    }
   ],
   "source": [
    "for word in word1:\n",
    "    if word in word2:\n",
    "        print(str(word) + ' is in word1 and word2')\n",
    "    else:\n",
    "        print(str(word) + ' not in word1 and word2')\n",
    "        \n",
    "for word in word2:\n",
    "    if word not in word1:\n",
    "        print(str(word) + ' not in word1 and word2')"
   ]
  },
  {
   "cell_type": "code",
   "execution_count": null,
   "metadata": {},
   "outputs": [],
   "source": []
  }
 ],
 "metadata": {
  "kernelspec": {
   "display_name": "Python 3",
   "language": "python",
   "name": "python3"
  },
  "language_info": {
   "codemirror_mode": {
    "name": "ipython",
    "version": 3
   },
   "file_extension": ".py",
   "mimetype": "text/x-python",
   "name": "python",
   "nbconvert_exporter": "python",
   "pygments_lexer": "ipython3",
   "version": "3.7.6"
  }
 },
 "nbformat": 4,
 "nbformat_minor": 4
}
