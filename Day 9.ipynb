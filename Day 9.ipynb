{
 "cells": [
  {
   "cell_type": "code",
   "execution_count": 1,
   "metadata": {},
   "outputs": [],
   "source": [
    "filename = 'expgraph.txt'\n",
    "file = open(filename, \"r\")"
   ]
  },
  {
   "cell_type": "code",
   "execution_count": 2,
   "metadata": {},
   "outputs": [
    {
     "name": "stdout",
     "output_type": "stream",
     "text": [
      "ï»¿The fast dog ran to the sleeping cat. \n",
      "\n",
      "ï»¿The\n",
      "fast\n",
      "dog\n",
      "ran\n",
      "to\n",
      "the\n",
      "sleeping\n",
      "cat.\n",
      "\n",
      "\n",
      "\n",
      "\n",
      "The dog took the toy. \n",
      "\n",
      "The\n",
      "dog\n",
      "took\n",
      "the\n",
      "toy.\n",
      "\n",
      "\n",
      "\n",
      "\n",
      "The cat woke up. \n",
      "\n",
      "The\n",
      "cat\n",
      "woke\n",
      "up.\n",
      "\n",
      "\n",
      "\n",
      "\n",
      "The cat saw the fast dog with the toy.The cat was sad.\n",
      "The\n",
      "cat\n",
      "saw\n",
      "the\n",
      "fast\n",
      "dog\n",
      "with\n",
      "the\n",
      "toy.The\n",
      "cat\n",
      "was\n",
      "sad.\n"
     ]
    }
   ],
   "source": [
    "file.seek(0)\n",
    "\n",
    "for line in file:\n",
    "    print(line)\n",
    "    for word in line.split():\n",
    "        print(word)"
   ]
  },
  {
   "cell_type": "code",
   "execution_count": 3,
   "metadata": {},
   "outputs": [
    {
     "name": "stdout",
     "output_type": "stream",
     "text": [
      "ï»¿The fast dog ran to the sleeping cat. \n",
      "\n"
     ]
    }
   ],
   "source": [
    "file.seek(0)\n",
    "a = file.readline()\n",
    "print(a)\n",
    "file.close()"
   ]
  },
  {
   "cell_type": "code",
   "execution_count": 4,
   "metadata": {},
   "outputs": [],
   "source": [
    "file=open(filename,\"a\") #open in append mode\n",
    "file.writelines(\"The cat was sad.\")\n",
    "file.close()"
   ]
  },
  {
   "cell_type": "code",
   "execution_count": 5,
   "metadata": {
    "scrolled": true
   },
   "outputs": [
    {
     "name": "stdout",
     "output_type": "stream",
     "text": [
      "ï»¿The fast dog ran to the sleeping cat. \n",
      "\n",
      "ï»¿The\n",
      "fast\n",
      "dog\n",
      "ran\n",
      "to\n",
      "the\n",
      "sleeping\n",
      "cat.\n",
      "\n",
      "\n",
      "\n",
      "\n",
      "The dog took the toy. \n",
      "\n",
      "The\n",
      "dog\n",
      "took\n",
      "the\n",
      "toy.\n",
      "\n",
      "\n",
      "\n",
      "\n",
      "The cat woke up. \n",
      "\n",
      "The\n",
      "cat\n",
      "woke\n",
      "up.\n",
      "\n",
      "\n",
      "\n",
      "\n",
      "The cat saw the fast dog with the toy.The cat was sad.The cat was sad.\n",
      "The\n",
      "cat\n",
      "saw\n",
      "the\n",
      "fast\n",
      "dog\n",
      "with\n",
      "the\n",
      "toy.The\n",
      "cat\n",
      "was\n",
      "sad.The\n",
      "cat\n",
      "was\n",
      "sad.\n"
     ]
    }
   ],
   "source": [
    "file=open(filename,\"r\")\n",
    "file.seek(0)\n",
    "#print line and words in line\n",
    "for line in file:\n",
    "    print(line)\n",
    "    for word in line.split():\n",
    "        print(word)\n",
    "file.close()"
   ]
  },
  {
   "cell_type": "code",
   "execution_count": 6,
   "metadata": {},
   "outputs": [],
   "source": [
    "import pandas as pd\n",
    "students = pd.read_csv('C:/Users/smrit/Downloads/exsheet.csv')"
   ]
  },
  {
   "cell_type": "code",
   "execution_count": 7,
   "metadata": {},
   "outputs": [
    {
     "data": {
      "text/html": [
       "<div>\n",
       "<style scoped>\n",
       "    .dataframe tbody tr th:only-of-type {\n",
       "        vertical-align: middle;\n",
       "    }\n",
       "\n",
       "    .dataframe tbody tr th {\n",
       "        vertical-align: top;\n",
       "    }\n",
       "\n",
       "    .dataframe thead th {\n",
       "        text-align: right;\n",
       "    }\n",
       "</style>\n",
       "<table border=\"1\" class=\"dataframe\">\n",
       "  <thead>\n",
       "    <tr style=\"text-align: right;\">\n",
       "      <th></th>\n",
       "      <th>Student</th>\n",
       "      <th>Subject</th>\n",
       "      <th>Score</th>\n",
       "    </tr>\n",
       "  </thead>\n",
       "  <tbody>\n",
       "    <tr>\n",
       "      <th>0</th>\n",
       "      <td>Bob</td>\n",
       "      <td>English</td>\n",
       "      <td>70</td>\n",
       "    </tr>\n",
       "    <tr>\n",
       "      <th>1</th>\n",
       "      <td>Rob</td>\n",
       "      <td>English</td>\n",
       "      <td>94</td>\n",
       "    </tr>\n",
       "    <tr>\n",
       "      <th>2</th>\n",
       "      <td>Cob</td>\n",
       "      <td>English</td>\n",
       "      <td>85</td>\n",
       "    </tr>\n",
       "    <tr>\n",
       "      <th>3</th>\n",
       "      <td>Lob</td>\n",
       "      <td>Math</td>\n",
       "      <td>100</td>\n",
       "    </tr>\n",
       "    <tr>\n",
       "      <th>4</th>\n",
       "      <td>Knob</td>\n",
       "      <td>Math</td>\n",
       "      <td>50</td>\n",
       "    </tr>\n",
       "  </tbody>\n",
       "</table>\n",
       "</div>"
      ],
      "text/plain": [
       "  Student  Subject  Score\n",
       "0     Bob  English     70\n",
       "1     Rob  English     94\n",
       "2     Cob  English     85\n",
       "3     Lob     Math    100\n",
       "4    Knob     Math     50"
      ]
     },
     "execution_count": 7,
     "metadata": {},
     "output_type": "execute_result"
    }
   ],
   "source": [
    "students"
   ]
  },
  {
   "cell_type": "code",
   "execution_count": 8,
   "metadata": {},
   "outputs": [
    {
     "name": "stdout",
     "output_type": "stream",
     "text": [
      "94\n"
     ]
    }
   ],
   "source": [
    "print(students.Score[1])"
   ]
  },
  {
   "cell_type": "code",
   "execution_count": 9,
   "metadata": {},
   "outputs": [],
   "source": [
    "x = students.Subject"
   ]
  },
  {
   "cell_type": "code",
   "execution_count": 10,
   "metadata": {},
   "outputs": [],
   "source": [
    "subj = []\n",
    "for i in range(len(x)):\n",
    "    if x[i] not in subj:\n",
    "        subj.append(x[i])"
   ]
  },
  {
   "cell_type": "code",
   "execution_count": 11,
   "metadata": {},
   "outputs": [
    {
     "name": "stdout",
     "output_type": "stream",
     "text": [
      "['English', 'Math']\n"
     ]
    }
   ],
   "source": [
    "print(subj)"
   ]
  },
  {
   "cell_type": "code",
   "execution_count": 12,
   "metadata": {},
   "outputs": [
    {
     "name": "stdout",
     "output_type": "stream",
     "text": [
      "The highest score for English is 94 from Rob\n",
      "The highest score for Math is 100 from Lob\n"
     ]
    }
   ],
   "source": [
    "for subje in subj:\n",
    "    maxscore = 0\n",
    "    maxname = ''\n",
    "    for j in range(len(x)):\n",
    "        if students.Subject[j] == subje and maxscore < students.Score[j]:\n",
    "            maxscore = students.Score[j]\n",
    "            maxname = students.Student[j]\n",
    "    print('The highest score for ' + str(subje) + ' is ' + str(maxscore) + ' from ' + str(maxname))"
   ]
  },
  {
   "cell_type": "code",
   "execution_count": 13,
   "metadata": {},
   "outputs": [
    {
     "name": "stdout",
     "output_type": "stream",
     "text": [
      "name pleasePob\n",
      "subject pleaseMath\n",
      "score please75\n"
     ]
    }
   ],
   "source": [
    "name = input('name please')\n",
    "subject = input('subject please')\n",
    "score = int(input('score please'))"
   ]
  },
  {
   "cell_type": "code",
   "execution_count": 14,
   "metadata": {},
   "outputs": [],
   "source": [
    "df = {'Student':name, 'Subject':subject, 'Score':score}"
   ]
  },
  {
   "cell_type": "code",
   "execution_count": 15,
   "metadata": {},
   "outputs": [
    {
     "data": {
      "text/html": [
       "<div>\n",
       "<style scoped>\n",
       "    .dataframe tbody tr th:only-of-type {\n",
       "        vertical-align: middle;\n",
       "    }\n",
       "\n",
       "    .dataframe tbody tr th {\n",
       "        vertical-align: top;\n",
       "    }\n",
       "\n",
       "    .dataframe thead th {\n",
       "        text-align: right;\n",
       "    }\n",
       "</style>\n",
       "<table border=\"1\" class=\"dataframe\">\n",
       "  <thead>\n",
       "    <tr style=\"text-align: right;\">\n",
       "      <th></th>\n",
       "      <th>Student</th>\n",
       "      <th>Subject</th>\n",
       "      <th>Score</th>\n",
       "    </tr>\n",
       "  </thead>\n",
       "  <tbody>\n",
       "    <tr>\n",
       "      <th>0</th>\n",
       "      <td>Bob</td>\n",
       "      <td>English</td>\n",
       "      <td>70</td>\n",
       "    </tr>\n",
       "    <tr>\n",
       "      <th>1</th>\n",
       "      <td>Rob</td>\n",
       "      <td>English</td>\n",
       "      <td>94</td>\n",
       "    </tr>\n",
       "    <tr>\n",
       "      <th>2</th>\n",
       "      <td>Cob</td>\n",
       "      <td>English</td>\n",
       "      <td>85</td>\n",
       "    </tr>\n",
       "    <tr>\n",
       "      <th>3</th>\n",
       "      <td>Lob</td>\n",
       "      <td>Math</td>\n",
       "      <td>100</td>\n",
       "    </tr>\n",
       "    <tr>\n",
       "      <th>4</th>\n",
       "      <td>Knob</td>\n",
       "      <td>Math</td>\n",
       "      <td>50</td>\n",
       "    </tr>\n",
       "    <tr>\n",
       "      <th>5</th>\n",
       "      <td>Pob</td>\n",
       "      <td>Math</td>\n",
       "      <td>75</td>\n",
       "    </tr>\n",
       "  </tbody>\n",
       "</table>\n",
       "</div>"
      ],
      "text/plain": [
       "  Student  Subject  Score\n",
       "0     Bob  English     70\n",
       "1     Rob  English     94\n",
       "2     Cob  English     85\n",
       "3     Lob     Math    100\n",
       "4    Knob     Math     50\n",
       "5     Pob     Math     75"
      ]
     },
     "execution_count": 15,
     "metadata": {},
     "output_type": "execute_result"
    }
   ],
   "source": [
    "students.append(df, ignore_index = True)"
   ]
  },
  {
   "cell_type": "code",
   "execution_count": null,
   "metadata": {},
   "outputs": [],
   "source": []
  }
 ],
 "metadata": {
  "kernelspec": {
   "display_name": "Python 3",
   "language": "python",
   "name": "python3"
  },
  "language_info": {
   "codemirror_mode": {
    "name": "ipython",
    "version": 3
   },
   "file_extension": ".py",
   "mimetype": "text/x-python",
   "name": "python",
   "nbconvert_exporter": "python",
   "pygments_lexer": "ipython3",
   "version": "3.7.6"
  }
 },
 "nbformat": 4,
 "nbformat_minor": 4
}
