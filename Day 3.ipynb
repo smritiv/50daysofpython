{
 "cells": [
  {
   "cell_type": "code",
   "execution_count": 1,
   "metadata": {},
   "outputs": [],
   "source": [
    "#Define a list. Swap last and first number; Swap last 2 numbers."
   ]
  },
  {
   "cell_type": "code",
   "execution_count": 2,
   "metadata": {},
   "outputs": [
    {
     "name": "stdout",
     "output_type": "stream",
     "text": [
      "[9, 3, 5, 7, 1]\n",
      "[9, 3, 5, 1, 7]\n"
     ]
    }
   ],
   "source": [
    "numbers = [1, 3, 5, 7, 9]\n",
    "numbers[0], numbers[-1] = numbers[-1], numbers[0]\n",
    "print(numbers)\n",
    "\n",
    "numbers[-1], numbers[-2] = numbers[-2], numbers[-1]\n",
    "print(numbers)"
   ]
  },
  {
   "cell_type": "code",
   "execution_count": 3,
   "metadata": {},
   "outputs": [],
   "source": [
    "#Find the second largest number"
   ]
  },
  {
   "cell_type": "code",
   "execution_count": 4,
   "metadata": {},
   "outputs": [
    {
     "name": "stdout",
     "output_type": "stream",
     "text": [
      "9\n"
     ]
    }
   ],
   "source": [
    "#way 1\n",
    "num2 = [1, 4, 12, 9, 2]\n",
    "x = max(num2)\n",
    "num2.remove(x)\n",
    "print(max(num2))"
   ]
  },
  {
   "cell_type": "code",
   "execution_count": 5,
   "metadata": {},
   "outputs": [
    {
     "name": "stdout",
     "output_type": "stream",
     "text": [
      "6\n"
     ]
    }
   ],
   "source": [
    "#way 2\n",
    "num1 = [1, 6, 3, 20, 5]\n",
    "num1.sort()\n",
    "print(num1[-2])"
   ]
  },
  {
   "cell_type": "code",
   "execution_count": 6,
   "metadata": {},
   "outputs": [],
   "source": [
    "#Break list into chunks of specific size"
   ]
  },
  {
   "cell_type": "code",
   "execution_count": 7,
   "metadata": {},
   "outputs": [
    {
     "name": "stdout",
     "output_type": "stream",
     "text": [
      "chunk size please\n",
      "2\n",
      "['banana', 'pear', 'cherry']\n",
      "['apple', 'pomegranate']\n"
     ]
    }
   ],
   "source": [
    "fruits = [\"apple\", \"banana\", \"pomegranate\", \"pear\", \"cherry\"]\n",
    "\n",
    "print('chunk size please')\n",
    "chunk = int(input())\n",
    "\n",
    "fruits1 = []\n",
    "\n",
    "if chunk >= len(fruits):\n",
    "    print('n/a')\n",
    "else:\n",
    "    for i in range(chunk):\n",
    "        fruits1.append(fruits[i])\n",
    "        fruits.remove(fruits[i])\n",
    "    \n",
    "print(fruits)\n",
    "print(fruits1) #takes spot 0 and 2 because "
   ]
  },
  {
   "cell_type": "code",
   "execution_count": 8,
   "metadata": {},
   "outputs": [],
   "source": [
    "#Sort values of one list into another"
   ]
  },
  {
   "cell_type": "code",
   "execution_count": 9,
   "metadata": {},
   "outputs": [
    {
     "name": "stdout",
     "output_type": "stream",
     "text": [
      "[0, 1, 2, 3, 6, 7, 12, 14, 16, 25, 41, 54, 56, 62, 65, 78, 93]\n",
      "[93, 78, 65, 62, 56, 54, 41, 25, 16, 14, 12, 7, 6, 3, 2, 1, 0]\n"
     ]
    }
   ],
   "source": [
    "num3 = [56, 78, 3, 54, 62, 0, 25, 41, 65, 2, 6, 7, 14, 16, 12, 93, 1]\n",
    "\n",
    "num3.sort()\n",
    "print(num3)\n",
    "\n",
    "reversenum3 = []\n",
    "\n",
    "for i in range(len(num3)):\n",
    "    reversenum3.append(num3[-i-1])\n",
    "    \n",
    "print(reversenum3)"
   ]
  },
  {
   "cell_type": "code",
   "execution_count": null,
   "metadata": {},
   "outputs": [],
   "source": []
  }
 ],
 "metadata": {
  "kernelspec": {
   "display_name": "Python 3",
   "language": "python",
   "name": "python3"
  },
  "language_info": {
   "codemirror_mode": {
    "name": "ipython",
    "version": 3
   },
   "file_extension": ".py",
   "mimetype": "text/x-python",
   "name": "python",
   "nbconvert_exporter": "python",
   "pygments_lexer": "ipython3",
   "version": "3.7.6"
  }
 },
 "nbformat": 4,
 "nbformat_minor": 4
}
