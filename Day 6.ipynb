{
 "cells": [
  {
   "cell_type": "code",
   "execution_count": 1,
   "metadata": {},
   "outputs": [
    {
     "name": "stdout",
     "output_type": "stream",
     "text": [
      "character pleaseq\n",
      "4\n"
     ]
    }
   ],
   "source": [
    "string = 'the quiet fox ran over the noisy dog'\n",
    "\n",
    "char = input('character please')\n",
    "\n",
    "if char in string:\n",
    "    print(string.find(char))\n",
    "else:\n",
    "    print('nope')"
   ]
  },
  {
   "cell_type": "code",
   "execution_count": 4,
   "metadata": {},
   "outputs": [
    {
     "name": "stdout",
     "output_type": "stream",
     "text": [
      "sentence pleasethe quiet boy ran away from noise\n",
      "the is in both strings\n",
      "quiet is in both strings\n",
      "boy is not in both strings\n",
      "ran is in both strings\n",
      "away is not in both strings\n",
      "from is not in both strings\n",
      "noise is not in both strings\n"
     ]
    }
   ],
   "source": [
    "strin2 = input('sentence please')\n",
    "\n",
    "string2 = strin2.split()\n",
    "\n",
    "for word in string2:\n",
    "    if word in string:\n",
    "        print(word + ' is in both strings')\n",
    "    else:\n",
    "        print(word + ' is not in both strings')"
   ]
  },
  {
   "cell_type": "code",
   "execution_count": 6,
   "metadata": {},
   "outputs": [
    {
     "name": "stdout",
     "output_type": "stream",
     "text": [
      "special characters please$%@\n",
      "$ not in both strings\n",
      "% in both strings\n",
      "@ in both strings\n"
     ]
    }
   ],
   "source": [
    "strin3 = '#@&%'\n",
    "string3 = input('special characters please')\n",
    "\n",
    "for item in string3:\n",
    "    if item in strin3:\n",
    "        print(item + ' in both strings')\n",
    "    else:\n",
    "        print(item + ' not in both strings')"
   ]
  },
  {
   "cell_type": "code",
   "execution_count": 10,
   "metadata": {},
   "outputs": [
    {
     "name": "stdout",
     "output_type": "stream",
     "text": [
      "three letter word pleasedog\n",
      "found dog\n"
     ]
    }
   ],
   "source": [
    "string4 = input('three letter word please')\n",
    "\n",
    "alphabet = ['a', 'b', 'c', 'd', 'e', 'f', 'g', 'h', 'i', 'j', 'k', 'l', 'm', 'n', 'o', 'p', 'q', 'r', 's', 't', 'u', 'v', 'w', 'x', 'y', 'z']\n",
    "\n",
    "for i in alphabet:\n",
    "    for j in alphabet:\n",
    "        for q in alphabet:\n",
    "            x = i + j + q\n",
    "            if x == string4:\n",
    "                print('found ' + x)\n",
    "                break"
   ]
  },
  {
   "cell_type": "code",
   "execution_count": null,
   "metadata": {},
   "outputs": [],
   "source": []
  }
 ],
 "metadata": {
  "kernelspec": {
   "display_name": "Python 3",
   "language": "python",
   "name": "python3"
  },
  "language_info": {
   "codemirror_mode": {
    "name": "ipython",
    "version": 3
   },
   "file_extension": ".py",
   "mimetype": "text/x-python",
   "name": "python",
   "nbconvert_exporter": "python",
   "pygments_lexer": "ipython3",
   "version": "3.7.6"
  }
 },
 "nbformat": 4,
 "nbformat_minor": 4
}
